{
 "cells": [
  {
   "cell_type": "code",
   "execution_count": 1,
   "metadata": {
    "collapsed": true
   },
   "outputs": [],
   "source": [
    "import os\n",
    "import re\n",
    "from glob import glob\n",
    "import pandas as pd\n",
    "import numpy as np\n",
    "from IPython import get_ipython\n",
    "import matplotlib.pyplot as plt"
   ]
  },
  {
   "cell_type": "code",
   "execution_count": 2,
   "metadata": {
    "collapsed": true
   },
   "outputs": [],
   "source": [
    "listValid = []\n",
    "def read_audio(path):\n",
    "    amount = int(len(os.listdir(path)))\n",
    "    amount = amount / 10\n",
    "    if amount < 1:\n",
    "        amount = 1\n",
    "    root = os.path.split(path)[-1]\n",
    "    \n",
    "    for file in os.listdir(path):\n",
    "        abs_path = os.path.abspath(os.path.join(path, file))\n",
    "        \n",
    "        if os.path.isdir(abs_path): \n",
    "            temp = os.path.split(abs_path)[-1]\n",
    "            #if temp != \"_background_noise_\":\n",
    "            read_audio(abs_path)\n",
    "        elif os.path.isfile(abs_path) and file.endswith('.wav') and amount != 0: \n",
    "            amount -= 1\n",
    "            temp = os.path.split(abs_path)[-1]\n",
    "            listValid.append(root + \"/\" + temp + \" \")\n",
    "            \n",
    "    return listValid\n",
    "    \n",
    "def creat_valid_list():\n",
    "    listValid = read_audio('./data/train/audio')  \n",
    "    #np.savetxt('validation_list.txt', listValid, delimiter=' ', fmt=\"%s,%s,%s\")\n",
    "    np.savetxt('./data/validation_list.txt', listValid, fmt=\"%s\")"
   ]
  },
  {
   "cell_type": "code",
   "execution_count": 3,
   "metadata": {},
   "outputs": [],
   "source": [
    "creat_valid_list()"
   ]
  },
  {
   "cell_type": "code",
   "execution_count": null,
   "metadata": {
    "collapsed": true
   },
   "outputs": [],
   "source": []
  }
 ],
 "metadata": {
  "kernelspec": {
   "display_name": "Python 3",
   "language": "python",
   "name": "python3"
  },
  "language_info": {
   "codemirror_mode": {
    "name": "ipython",
    "version": 2
   },
   "file_extension": ".py",
   "mimetype": "text/x-python",
   "name": "python",
   "nbconvert_exporter": "python",
   "pygments_lexer": "ipython2",
   "version": "2.7.13"
  }
 },
 "nbformat": 4,
 "nbformat_minor": 2
}
